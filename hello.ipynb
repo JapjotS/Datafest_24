{
 "cells": [
  {
   "cell_type": "code",
   "execution_count": 7,
   "metadata": {},
   "outputs": [],
   "source": [
    "import pandas as pd\n",
    "\n",
    "pulse = pd.read_csv(\"checkpoints_pulse.csv\")\n",
    "eoc = pd.read_csv(\"checkpoints_eoc.csv\")\n",
    "merged_df = pd.merge(pulse,eoc, on=[\"student_id\",\"class_id\",\"book\",\"chapter_number\"], how=\"inner\")\n",
    "merged_df.dropna(inplace=True)\n",
    "merged_df.to_csv(\"merged_checkpoints.csv\", index=False)"
   ]
  },
  {
   "cell_type": "code",
   "execution_count": 8,
   "metadata": {},
   "outputs": [
    {
     "name": "stdout",
     "output_type": "stream",
     "text": [
      "Mean Squared Error (MSE): 1.1819509204963283\n",
      "R-squared: 0.06266149231773077\n"
     ]
    },
    {
     "data": {
      "image/png": "[encoded data removed]",
      "text/plain": [
       "<Figure size 640x480 with 1 Axes>"
      ]
     },
     "metadata": {},
     "output_type": "display_data"
    }
   ],
   "source": [
    "import pandas as pd\n",
    "from sklearn.model_selection import train_test_split\n",
    "from sklearn.linear_model import LinearRegression\n",
    "from sklearn.metrics import mean_squared_error, r2_score\n",
    "import matplotlib.pyplot as plt\n",
    "\n",
    "# Load the data\n",
    "df = pd.read_csv('merged_checkpoints.csv')\n",
    "\n",
    "# Filter to include only rows where the construct is 'Expectancy'\n",
    "expectancy_df = df[df['construct'] == 'Expectancy']\n",
    "\n",
    "# Define predictors and response\n",
    "X = expectancy_df[['n_possible', 'n_correct', 'n_attempt']]\n",
    "y = expectancy_df['response']\n",
    "\n",
    "# Split into training and testing sets\n",
    "X_train, X_test, y_train, y_test = train_test_split(X, y, test_size=0.2, random_state=42)\n",
    "\n",
    "# Initialize and train the regression model\n",
    "model = LinearRegression()\n",
    "model.fit(X_train, y_train)\n",
    "\n",
    "# Predict on the test set\n",
    "y_pred = model.predict(X_test)\n",
    "\n",
    "# Evaluate the model\n",
    "mse = mean_squared_error(y_test, y_pred)\n",
    "r2 = r2_score(y_test, y_pred)\n",
    "\n",
    "# Output the performance metrics\n",
    "print(f'Mean Squared Error (MSE): {mse}')\n",
    "print(f'R-squared: {r2}')\n",
    "\n",
    "# Plot the actual vs predicted values\n",
    "plt.scatter(y_test, y_pred)\n",
    "plt.plot([y.min(), y.max()], [y.min(), y.max()], 'r--', lw=2)\n",
    "plt.xlabel('Actual')\n",
    "plt.ylabel('Predicted')\n",
    "plt.title('Actual vs Predicted Expectancy')\n",
    "plt.show()\n"
   ]
  },
  {
   "cell_type": "code",
   "execution_count": 9,
   "metadata": {},
   "outputs": [
    {
     "name": "stderr",
     "output_type": "stream",
     "text": [
      "Writing comments: 100%|██████████| 1585274/1585274 [00:03<00:00, 470954.16it/s]\n"
     ]
    }
   ],
   "source": [
    "import pandas as pd\n",
    "from tqdm import tqdm\n",
    "\n",
    "\n",
    "#CHANGE ME\n",
    "\n",
    "# Correct the filepath based on your directory structure\n",
    "filepath = 'C:\\\\Users\\\\Japjot\\\\Downloads\\\\OneDrive_1_3-22-2024\\\\full_03_04\\\\responses.csv'\n",
    "\n",
    "# Load the data into a DataFrame, adding low_memory=False to avoid DtypeWarning\n",
    "df = pd.read_csv(filepath, low_memory=False)\n",
    "\n",
    "# Define a function to safely extract comments\n",
    "def extract_comments(x):\n",
    "    # Check if x is a string to avoid AttributeError\n",
    "    if isinstance(x, str):\n",
    "        # Split by '#' and strip spaces\n",
    "        return ' '.join([part.strip() for part in x.split('#') if part.strip()])\n",
    "    else:\n",
    "        # Return an empty string or placeholder if x is not a string\n",
    "        return ''\n",
    "\n",
    "# Apply the function to the 'response' column\n",
    "comments = df['response'].apply(extract_comments)\n",
    "\n",
    "# Open a text file for writing comments\n",
    "with open('comments.txt', 'w', encoding='utf-8') as file:\n",
    "    # Iterate over comments with a progress bar\n",
    "    for i, comment in tqdm(enumerate(comments, start=1), total=comments.shape[0], desc=\"Writing comments\"):\n",
    "        file.write(f\"Comment {i}: {comment}\\n\\n\")"
   ]
  },
  {
   "cell_type": "code",
   "execution_count": null,
   "metadata": {},
   "outputs": [
    {
     "ename": "UnicodeEncodeError",
     "evalue": "'charmap' codec can't encode characters in position 2-6: character maps to <undefined>",
     "output_type": "error",
     "traceback": [
      "\u001b[1;31m---------------------------------------------------------------------------\u001b[0m",
      "\u001b[1;31mUnicodeEncodeError\u001b[0m                        Traceback (most recent call last)",
      "Cell \u001b[1;32mIn[11], line 29\u001b[0m\n\u001b[0;32m     27\u001b[0m \u001b[38;5;28;01mwith\u001b[39;00m \u001b[38;5;28mopen\u001b[39m(\u001b[38;5;124m'\u001b[39m\u001b[38;5;124msanitized_comments.txt\u001b[39m\u001b[38;5;124m'\u001b[39m, \u001b[38;5;124m'\u001b[39m\u001b[38;5;124mw\u001b[39m\u001b[38;5;124m'\u001b[39m) \u001b[38;5;28;01mas\u001b[39;00m file:\n\u001b[0;32m     28\u001b[0m     \u001b[38;5;28;01mfor\u001b[39;00m comment \u001b[38;5;129;01min\u001b[39;00m human_written_comments:\n\u001b[1;32m---> 29\u001b[0m         \u001b[43mfile\u001b[49m\u001b[38;5;241;43m.\u001b[39;49m\u001b[43mwrite\u001b[49m\u001b[43m(\u001b[49m\u001b[43mcomment\u001b[49m\u001b[43m)\u001b[49m\n",
      "File \u001b[1;32mC:\\Program Files\\WindowsApps\\PythonSoftwareFoundation.Python.3.11_3.11.2288.0_x64__qbz5n2kfra8p0\\Lib\\encodings\\cp1252.py:19\u001b[0m, in \u001b[0;36mIncrementalEncoder.encode\u001b[1;34m(self, input, final)\u001b[0m\n\u001b[0;32m     18\u001b[0m \u001b[38;5;28;01mdef\u001b[39;00m \u001b[38;5;21mencode\u001b[39m(\u001b[38;5;28mself\u001b[39m, \u001b[38;5;28minput\u001b[39m, final\u001b[38;5;241m=\u001b[39m\u001b[38;5;28;01mFalse\u001b[39;00m):\n\u001b[1;32m---> 19\u001b[0m     \u001b[38;5;28;01mreturn\u001b[39;00m \u001b[43mcodecs\u001b[49m\u001b[38;5;241;43m.\u001b[39;49m\u001b[43mcharmap_encode\u001b[49m\u001b[43m(\u001b[49m\u001b[38;5;28;43minput\u001b[39;49m\u001b[43m,\u001b[49m\u001b[38;5;28;43mself\u001b[39;49m\u001b[38;5;241;43m.\u001b[39;49m\u001b[43merrors\u001b[49m\u001b[43m,\u001b[49m\u001b[43mencoding_table\u001b[49m\u001b[43m)\u001b[49m[\u001b[38;5;241m0\u001b[39m]\n",
      "\u001b[1;31mUnicodeEncodeError\u001b[0m: 'charmap' codec can't encode characters in position 2-6: character maps to <undefined>"
     ]
    }
   ],
   "source": [
    "import re\n",
    "import csv\n",
    "from collections import Counter\n",
    "from textblob import TextBlob\n",
    "from tqdm import tqdm\n",
    "\n",
    "def is_human_written(text, repeats):\n",
    "    \"\"\"\n",
    "    Check if the comment is likely to be human-written text.\n",
    "    \n",
    "    This function applies various checks to determine if a piece of text\n",
    "    appears to be human-written, excluding those that meet certain patterns\n",
    "    suggestive of automated generation, non-text content, or non-constructive input.\n",
    "    \n",
    "    Args:\n",
    "    - text (str): The text to evaluate.\n",
    "    - repeats (Counter): A Counter object tracking occurrences of each text.\n",
    "    \n",
    "    Returns:\n",
    "    - bool: True if the text is likely human-written, False otherwise.\n",
    "    \"\"\"\n",
    "    if any(symbol in text for symbol in [\"\\\\\", \"<\", \">\"]) or '\"' in text or re.search(r'c\\([\"\\'].*?[\"\\']\\)', text):\n",
    "        return False\n",
    "    if text.strip().endswith(\"?\") or text.strip().startswith(\"-\") or re.match(r'^\\(\\d+\\)', text.strip()):\n",
    "        return False\n",
    "    if repeats[text.strip()] > 1:\n",
    "        return False\n",
    "    if text.count(\" \") <= 3:\n",
    "        return False\n",
    "    if \"_\" in text or re.search(r'\\(\\s*\\(.+\\)\\s*\\)', text) or re.search(r'\\)\\s*\\(', text):\n",
    "        return False\n",
    "    numerical_or_json_pattern = re.compile(r'\\d{1,3}(,\\d{3})*(-\\d{1,3}(,\\d{3})*)?|^\\[\\s*(\".*?\"|\\d+)(,\\s*(\".*?\"|\\d+))*\\s*\\]$')\n",
    "    if numerical_or_json_pattern.search(text):\n",
    "        return False\n",
    "    code_like_patterns = re.compile(r'<-|=|\\b(tail|head|sum|factor|as\\.numeric|as\\.factor)\\b|confint\\(Condition_model\\)|int\\(Condition_model\\)')\n",
    "    if code_like_patterns.search(text):\n",
    "        return False\n",
    "    if len(text.strip()) < 10:\n",
    "        return False\n",
    "    return True\n",
    "\n",
    "def process_comments(input_file, output_file):\n",
    "    \"\"\"\n",
    "    Process comments from an input CSV, filtering based on criteria, analyzing sentiment polarity,\n",
    "    and writing comments with non-zero polarity to a new CSV file.\n",
    "    \"\"\"\n",
    "    with open(input_file, 'r', encoding='utf-8') as file:\n",
    "        csv_reader = csv.DictReader(file)\n",
    "        comments = [(row['student_id'], row['class_id'], row['book'], row['chapter_number'], row['response']) for row in csv_reader]\n",
    "    line_counts = Counter(comment[4].strip() for comment in comments)\n",
    "    \n",
    "    with open(output_file, 'w', encoding='utf-8', newline='') as file:\n",
    "        fieldnames = ['student_id', 'class_id', 'book', 'chapter_number', 'response', 'polarity']\n",
    "        csv_writer = csv.DictWriter(file, fieldnames=fieldnames)\n",
    "        csv_writer.writeheader()\n",
    "        \n",
    "        for student_id, class_id, book, chapter_number, response in tqdm(comments, desc=\"Processing Comments\"):\n",
    "            if is_human_written(response, line_counts):\n",
    "                polarity = TextBlob(response).sentiment.polarity\n",
    "                # Check if polarity is not zero before adding\n",
    "                if polarity != 0:\n",
    "                    csv_writer.writerow({\n",
    "                        'student_id': student_id,\n",
    "                        'class_id': class_id,\n",
    "                        'book': book,\n",
    "                        'chapter_number': chapter_number,\n",
    "                        'response': response,\n",
    "                        'polarity': polarity\n",
    "                    })\n",
    "\n",
    "# Example call to process the comments\n",
    "process_comments('responses.csv', 'sanitized_comments_with_ids_polarity.csv')\n"
   ]
  }
 ],
 "metadata": {
  "kernelspec": {
   "display_name": "Python 3",
   "language": "python",
   "name": "python3"
  },
  "language_info": {
   "codemirror_mode": {
    "name": "ipython",
    "version": 3
   },
   "file_extension": ".py",
   "mimetype": "text/x-python",
   "name": "python",
   "nbconvert_exporter": "python",
   "pygments_lexer": "ipython3",
   "version": "3.11.8"
  }
 },
 "nbformat": 4,
 "nbformat_minor": 2
}
